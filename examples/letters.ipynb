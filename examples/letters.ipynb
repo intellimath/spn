{
 "cells": [
  {
   "cell_type": "code",
   "execution_count": 1,
   "metadata": {},
   "outputs": [],
   "source": [
    "import pandas as pd\n",
    "import numpy as np\n",
    "\n",
    "from spn import LogicalArithmeticSPN\n",
    "from spn.laspn import sort_dataset, generate_total_significant_mindices, generate_significant_mindices\n",
    "from spn.laspn import save_all_mindices, read_all_mindices"
   ]
  },
  {
   "cell_type": "code",
   "execution_count": 2,
   "metadata": {},
   "outputs": [],
   "source": [
    "def read_letter(f, c):\n",
    "    data = []\n",
    "    nl = 0\n",
    "    while True:\n",
    "        line = f.readline().strip()\n",
    "        if len(line) <= 2:\n",
    "            next_c = line\n",
    "            break\n",
    "        m = len(line)\n",
    "        if m > 5:\n",
    "            raise TypeError(\"{0}: длина строки больше 5\".format(c))\n",
    "        row = tuple([(1 if x == '*' else 0) for x in line])\n",
    "        if len(row) != 5:\n",
    "            raise TypeError(\"{0}: длина != 5\".format(c))\n",
    "        data.append(row)\n",
    "        nl += 1\n",
    "    if nl != 5:\n",
    "        raise TypeError(\"{0}: высота != 5\".format(c))\n",
    "    return data, next_c\n",
    "\n",
    "def flatten_data(data):\n",
    "    t = ()\n",
    "    for d in data:\n",
    "        t = t + d\n",
    "    return t\n",
    "\n",
    "def read_letters():\n",
    "    f = open('data/letters.txt', 'rt', encoding='utf-8')\n",
    "    Y = []\n",
    "    X = []\n",
    "    d = {}\n",
    "    line = f.readline().strip()\n",
    "    c = line[0]\n",
    "    while True:\n",
    "        if c == '##':\n",
    "            break\n",
    "        data, next_c = read_letter(f, c)\n",
    "        data = flatten_data(data)\n",
    "        Y.append(c)\n",
    "        X.append(data)\n",
    "        c = next_c\n",
    "    f.close()\n",
    "    return X, Y"
   ]
  },
  {
   "cell_type": "code",
   "execution_count": 3,
   "metadata": {},
   "outputs": [],
   "source": [
    "X, Y = read_letters()"
   ]
  },
  {
   "cell_type": "code",
   "execution_count": 4,
   "metadata": {},
   "outputs": [
    {
     "name": "stdout",
     "output_type": "stream",
     "text": [
      "26 26\n"
     ]
    }
   ],
   "source": [
    "X, Y = sort_dataset(X, Y)\n",
    "print(len(X), len(Y))"
   ]
  },
  {
   "cell_type": "code",
   "execution_count": 5,
   "metadata": {},
   "outputs": [],
   "source": [
    "C = list(np.unique(Y))\n",
    "\n",
    "YY = {}\n",
    "N = len(X)\n",
    "for c in C:\n",
    "    Yc = []\n",
    "    for y in Y:\n",
    "        if y == c:\n",
    "            Yc.append(1)\n",
    "        else:\n",
    "            Yc.append(0)\n",
    "    YY[c] = Yc\n"
   ]
  },
  {
   "cell_type": "code",
   "execution_count": 6,
   "metadata": {},
   "outputs": [
    {
     "name": "stdout",
     "output_type": "stream",
     "text": [
      "000 0010000100001000010000100 I 5\n",
      "001 0001000010000101001001100 J 7\n",
      "002 1000101010001000010000100 Y 7\n",
      "003 1000010000100001000011111 L 9\n",
      "004 1000101010001000101010001 X 9\n",
      "005 1000110001010100101000100 V 9\n",
      "006 1111100100001000010000100 T 9\n",
      "007 0111110000100001000001111 C 11\n",
      "008 1000110001100011000101110 U 11\n",
      "009 1000110010111001001010001 K 11\n",
      "010 0111010001100011000101110 O 12\n",
      "011 0111010001101011001001001 Q 12\n",
      "012 1000110001101011010101010 W 12\n",
      "013 1111010001111101000010000 P 12\n",
      "014 0111110000011100000111110 S 13\n",
      "015 0111110000100111000101110 G 13\n",
      "016 1000110001111111000110001 H 13\n",
      "017 1000111001101011001110001 N 13\n",
      "018 1000111011101011000110001 M 13\n",
      "019 1111100010001000100011111 Z 13\n",
      "020 1111110000111111000010000 F 13\n",
      "021 0111010001111111000110001 A 14\n",
      "022 1111010001100011000111110 D 14\n",
      "023 1111010001111101001010001 R 14\n",
      "024 1111010001111101000111110 B 16\n",
      "025 1111110000111111000011111 E 17\n"
     ]
    }
   ],
   "source": [
    "for k, Xk in enumerate(X):\n",
    "    print('%.3i' % k, ''.join(str(x) for x in Xk), Y[k], sum(Xk))"
   ]
  },
  {
   "cell_type": "code",
   "execution_count": 8,
   "metadata": {},
   "outputs": [
    {
     "name": "stdout",
     "output_type": "stream",
     "text": [
      "0 17 [(12,), (2,), (17,)]\n",
      "1 74 [(8,), (13,), (3,)]\n",
      "2 70 [(4,), (0,), (6,)]\n",
      "3 311 [(20,), (24,), (10,)]\n",
      "4 287 [(16,), (6, 18), (6, 16)]\n",
      "5 296 [(9,), (11,), (4, 9)]\n",
      "6 272 [(1,), (0, 7), (2, 4)]\n",
      "7 1223 [(1, 10), (3, 24), (3, 10)]\n",
      "8 1194 [(19,), (14,), (0, 14)]\n",
      "9 1179 [(10, 12), (10, 11), (5, 8)]\n",
      "10 2045 [(1, 14), (2, 19), (2, 9)]\n",
      "11 2213 [(14, 24), (9, 24), (12, 14)]\n",
      "12 1939 [(5, 17), (17, 19), (14, 17)]\n",
      "13 2426 [(10, 13), (12, 13), (2, 11)]\n",
      "14 5043 [(13, 19), (13, 23), (11, 19)]\n",
      "15 3142 [(13, 14), (10, 13, 19), (10, 13, 22)]\n",
      "16 4466 [(11, 14), (13, 24), (19, 24)]\n",
      "17 3780 [(6, 15), (18, 19), (6, 19)]\n",
      "18 2486 [(8, 9), (8, 14), (8, 19)]\n",
      "19 4914 [(1, 16), (8, 23), (16, 21)]\n",
      "20 3123 [(3, 14, 20), (1, 14, 20), (0, 2, 14)]\n",
      "21 7128 [(2, 19, 24), (1, 19, 24), (2, 13, 24)]\n",
      "22 7047 [(9, 20, 22), (0, 3, 19), (9, 20, 21)]\n",
      "23 6150 [(1, 13, 18), (13, 18, 20), (1, 11, 18)]\n",
      "24 33329 [(10, 11, 23), (9, 11, 23), (11, 15, 21)]\n",
      "25 68626 [(11, 14, 23), (13, 21, 24), (11, 14, 21)]\n"
     ]
    }
   ],
   "source": [
    "h = open(\"letters5_all_mis.txt\", \"wt\")\n",
    "MI = []\n",
    "for mis in generate_total_significant_mindices(X):\n",
    "    MI.append(mis)\n",
    "    h.write(repr(mis) + \"\\n\")\n",
    "h.close()"
   ]
  },
  {
   "cell_type": "code",
   "execution_count": null,
   "metadata": {},
   "outputs": [],
   "source": [
    "print(YY['C'])"
   ]
  },
  {
   "cell_type": "code",
   "execution_count": null,
   "metadata": {},
   "outputs": [],
   "source": [
    "spn = LogicalArithmeticSPN(total=False)\n",
    "spn.fit(X, YY['C'], mindices=MI, is_sorted=True)"
   ]
  },
  {
   "cell_type": "code",
   "execution_count": null,
   "metadata": {},
   "outputs": [],
   "source": [
    "print(spn.mindices)\n",
    "print(spn.weights)"
   ]
  },
  {
   "cell_type": "code",
   "execution_count": null,
   "metadata": {},
   "outputs": [],
   "source": [
    "spn.evaluate_all(X) == YY['C']"
   ]
  },
  {
   "cell_type": "code",
   "execution_count": null,
   "metadata": {},
   "outputs": [],
   "source": [
    "from IPython import display\n",
    "text = r'\\begin{eqnarray}'\n",
    "text += r\"\\mathrm{spn} &=& %s\\\\\" % (spn.latex()[1:-1])\n",
    "text += r'\\end{eqnarray}'\n",
    "display.Latex(text)"
   ]
  },
  {
   "cell_type": "code",
   "execution_count": null,
   "metadata": {},
   "outputs": [],
   "source": [
    "import networkx as nx"
   ]
  },
  {
   "cell_type": "code",
   "execution_count": null,
   "metadata": {},
   "outputs": [],
   "source": [
    "def plot_spn_digraph(spn):\n",
    "    g = nx.DiGraph()\n",
    "\n",
    "    x_list = []\n",
    "    P_list = []\n",
    "\n",
    "    edge_labels ={}\n",
    "    \n",
    "    m = len(spn.mindices)\n",
    "    for i in range(m):\n",
    "        P = 'P'+str(i+1)\n",
    "        if P not in P_list:\n",
    "            P_list.append(P)\n",
    "\n",
    "        mi = spn.mindices[i]\n",
    "        for t in mi:\n",
    "            x = 'x'+str(t+1)\n",
    "            if x not in x_list:\n",
    "                x_list.append(x)\n",
    "            key = (x, P)\n",
    "            g.add_edge(*key)\n",
    "\n",
    "        S = 'S'\n",
    "        g.add_edge(P, S)\n",
    "        key = (P, S)\n",
    "        g.add_edge(*key)\n",
    "        edge_labels[key] = spn.weights[i]\n",
    "        H = 'H'\n",
    "        g.add_edge(S, H)\n",
    "        y = 'y'\n",
    "        g.add_edge(H, y)\n",
    "\n",
    "    node_colors = []\n",
    "    for node in g.nodes:\n",
    "        c = node[0]\n",
    "        if c == 'x':\n",
    "            node_colors.append('gray')\n",
    "        elif c == 'P':  \n",
    "            node_colors.append('g')\n",
    "        elif c == 'S':  \n",
    "            node_colors.append('b')\n",
    "        elif c == 'H':  \n",
    "            node_colors.append('m')\n",
    "        elif c == 'y':  \n",
    "            node_colors.append('gray')\n",
    "            \n",
    "    ax = plt.gca()\n",
    "    pos = nx.drawing.layout.shell_layout(g, nlist=[x_list, P_list, ['S'], ['H'], ['y']], center=(0,0))\n",
    "    nx.draw_networkx(g, pos=pos, with_label=True, arrows=True, ax=ax, \n",
    "                     node_color=node_colors)\n",
    "    nx.draw_networkx_edge_labels(g, pos=pos, ax=ax, edge_labels=edge_labels)"
   ]
  },
  {
   "cell_type": "code",
   "execution_count": null,
   "metadata": {},
   "outputs": [],
   "source": [
    "import matplotlib.pyplot as plt\n",
    "plt.figure(figsize=(15,9))\n",
    "plot_spn_digraph(spn)\n",
    "plt.savefig(\"letter5_C.jpg\")"
   ]
  },
  {
   "cell_type": "code",
   "execution_count": null,
   "metadata": {},
   "outputs": [],
   "source": []
  }
 ],
 "metadata": {
  "kernelspec": {
   "display_name": "Python 3",
   "language": "python",
   "name": "python3"
  },
  "language_info": {
   "codemirror_mode": {
    "name": "ipython",
    "version": 3
   },
   "file_extension": ".py",
   "mimetype": "text/x-python",
   "name": "python",
   "nbconvert_exporter": "python",
   "pygments_lexer": "ipython3",
   "version": "3.8.3"
  }
 },
 "nbformat": 4,
 "nbformat_minor": 4
}
